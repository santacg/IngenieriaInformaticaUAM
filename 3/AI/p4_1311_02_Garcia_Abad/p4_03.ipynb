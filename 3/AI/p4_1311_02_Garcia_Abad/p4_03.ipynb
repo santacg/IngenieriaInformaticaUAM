{
 "cells": [
  {
   "cell_type": "markdown",
   "metadata": {},
   "source": [
    "## 4. Predicción de fugas de clientes en una compañía telefónica (3.5 puntos)"
   ]
  },
  {
   "cell_type": "markdown",
   "metadata": {},
   "source": [
    "Una compañía telefónica está interesada en que desarrollemos un modelo que prediga los **100 clientes actuales** (dataset de explotación) que tienen más probabilidad de abandonar la compañía. Para ello nos proporcionan una base de datos **fuga_clientes_empresa_telefonica_construccion.csv** (en carpeta data/) con casos etiquetados, que usaremos para construir nuestro modelo de predicción.\n",
    "\n",
    "Los campos de esta base de datos son:\n",
    "\n",
    "* **Customer ID**\n",
    "\n",
    "* **network_age**: antigüedad del cliente en días\n",
    "\n",
    "* **Customer tenure in months:** antigüedad del cliente en meses\n",
    "\n",
    "* **Total Spend in Months 1 and 2:** gasto total del cliente en los meses de referencia 1 y 2\n",
    "\n",
    "* **Total SMS Spend:** gasto total en SMS\n",
    "\n",
    "* **Total Data Spend:** gasto total en datos/internet\n",
    "\n",
    "* **Total Data Consumption:** consumo total de datos (en KB) durante el período de estudio\n",
    "\n",
    "* **Total Unique Calls:** número total de llamadas únicas\n",
    "\n",
    "* **Total Onnet spend:** gasto total en llamadas a otros usuarios de la misma red de telefonía\n",
    "\n",
    "* **Total Offnet spend:** gasto total en llamadas a otros usuarios de redes de telefonía diferentes\n",
    "\n",
    "* **Total Call centre complaint calls:** número de llamadas de queja al call center\n",
    "\n",
    "* **Network type subscription in Month 1:** suscripción de tipo de red en el mes 1. Esto indica la suscripción de red preferida de un cliente, lo que puede indicar su tipo de dispositivo: servicio 2G o 3G\n",
    "\n",
    "* **Network type subscription in Month 2:** igual que el anterior pero en el mes posterior\n",
    "\n",
    "* **Churn Status**: el valor es 1 si el cliente abandona la compañía telefónica, 0 si permanece en ella\n",
    "\n",
    "* **Most Loved Competitor network in Month 1:** qué otro proveedor de la competencia prefiere el cliente en el mes 1. En realidad es un conjunto de columnas, cada una enfocada en un proveedor particular\n",
    "\n",
    "* **Most Loved Competitor network in Month 2:** qué otro proveedor de la competencia prefiere el cliente en el mes 2. En realidad es un conjunto de columnas, cada una enfocada en un proveedor particular\n",
    "\n",
    "La variable a predecir es **Churn Status**: el valor es 1 si el cliente **abandona** la compañía, 0 si no la abandona.\n",
    "\n",
    "La compañía también nos proporciona otra base de datos, **fuga_clientes_empresa_telefonica_explotacion.csv**, con información sobre clientes de los que no se sabe ahora mismo si van a permanecer o no en la compañía. Por tanto en esta segunda base de datos todos los valores de la columna **Churn Status** son missing values (NaN).\n",
    "\n",
    "La compañía nos pide que proporcionemos los IDs de los 100 clientes de la base de datos de explotación que con mayor probabilidad vayan a abandonar la compañía. Para ello proporcionaremos como entregable a la compañía un archivo csv con una sola columna, **Customer ID**, y 100 filas que contengan los IDs de los clientes seleccionados.\n",
    "\n",
    "El fichero **ejemplo_fichero_predicciones.csv** contiene un ejemplo con el formato solicitado para este archivo."
   ]
  },
  {
   "cell_type": "code",
   "execution_count": null,
   "metadata": {},
   "outputs": [],
   "source": [
    "import pandas as pd\n",
    "import numpy as np\n",
    "\n",
    "from sklearn.model_selection import train_test_split, cross_val_score\n",
    "\n",
    "from sklearn.neural_network import MLPClassifier\n",
    "from sklearn.neighbors import KNeighborsClassifier\n",
    "from sklearn.tree import DecisionTreeClassifier\n",
    "from sklearn.linear_model import LogisticRegression\n",
    "from sklearn.naive_bayes import GaussianNB\n"
   ]
  },
  {
   "cell_type": "code",
   "execution_count": null,
   "metadata": {},
   "outputs": [],
   "source": [
    "datos_construccion = pd.read_csv(\"./data/fuga_clientes_empresa_telefonica_construccion.csv\")\n",
    "datos_explotacion  = pd.read_csv(\"./data/fuga_clientes_empresa_telefonica_explotacion.csv\")"
   ]
  },
  {
   "cell_type": "code",
   "execution_count": null,
   "metadata": {},
   "outputs": [],
   "source": [
    "datos_construccion.columns"
   ]
  },
  {
   "cell_type": "code",
   "execution_count": null,
   "metadata": {},
   "outputs": [],
   "source": [
    "datos_explotacion.columns"
   ]
  },
  {
   "cell_type": "code",
   "execution_count": null,
   "metadata": {},
   "outputs": [],
   "source": [
    "# chequeo de que las columnas son exactamente las mismas en los dos ficheros:\n",
    "sum(datos_construccion.columns != datos_explotacion.columns)"
   ]
  },
  {
   "cell_type": "code",
   "execution_count": null,
   "metadata": {},
   "outputs": [],
   "source": [
    "# la columna a predecir es \"Churn Status\"\n",
    "# si es 1, el cliente se va de la compañía\n",
    "# si es 0, el cliente se queda\n",
    "\n",
    "# Esta columna se sabe en el dataset de construcción (ejemplos de clientes pasados):\n",
    "datos_construccion[\"Churn Status\"].values[:10]"
   ]
  },
  {
   "cell_type": "code",
   "execution_count": null,
   "metadata": {},
   "outputs": [],
   "source": [
    "# Sin embargo no se sabe en el dataset de explotación (clientes actuales):\n",
    "datos_explotacion[\"Churn Status\"].values[:10]"
   ]
  },
  {
   "cell_type": "code",
   "execution_count": null,
   "metadata": {},
   "outputs": [],
   "source": [
    "# División de datos en características y objetivo\n",
    "x = datos_construccion.drop(['Customer ID', 'Churn Status'], axis=1)\n",
    "y = datos_construccion['Churn Status']"
   ]
  },
  {
   "cell_type": "code",
   "execution_count": null,
   "metadata": {},
   "outputs": [],
   "source": [
    "# Neural network\n",
    "neural_network_clf = MLPClassifier(hidden_layer_sizes=(100,), max_iter=1000, alpha=0)\n",
    "# K-nn algorithm\n",
    "knn_clf = KNeighborsClassifier(n_neighbors=24)\n",
    "# Gaussian naive bayes\n",
    "naive_bayes_clf = GaussianNB()\n",
    "# Logistic regression\n",
    "logistic_reg_clf = LogisticRegression(C=100,solver='lbfgs', max_iter=1000)\n",
    "# Decision tree\n",
    "decision_tree_clf = DecisionTreeClassifier(max_depth=7, min_samples_leaf=4,min_samples_split=10)\n",
    "\n",
    "# Testing neural network\n",
    "\n",
    "scores = cross_val_score(neural_network_clf,x,y,cv=5,)\n",
    "\n",
    "print(\"Score global del modelo neural network: {:.2f} +/- {:.2f}\".format(scores.mean(), scores.std()))\n",
    "\n",
    "# Testing k-nn algorithm\n",
    "\n",
    "scores = cross_val_score(knn_clf,x,y,cv=5,)\n",
    "\n",
    "print(\"Score global del modelo k-nn: {:.2f} +/- {:.2f}\".format(scores.mean(), scores.std()))\n",
    "\n",
    "# Testing gaussian naive bayes\n",
    "\n",
    "scores = cross_val_score(naive_bayes_clf,x,y,cv=5,)\n",
    "\n",
    "\n",
    "print(\"Score global del modelo gaussian: {:.2f} +/- {:.2f}\".format(scores.mean(), scores.std()))\n",
    "\n",
    "# Testing logistic regression\n",
    "\n",
    "scores = cross_val_score(logistic_reg_clf,x,y,cv=5,)\n",
    "\n",
    "\n",
    "print(\"Score global del modelo logistic regression: {:.2f} +/- {:.2f}\".format(scores.mean(), scores.std()))\n",
    "\n",
    "# Testing decision tree\n",
    "scores = cross_val_score(decision_tree_clf,x,y,cv=5,)\n",
    "\n",
    "\n",
    "print(\"Score global del modelo decission tree: {:.2f} +/- {:.2f}\".format(scores.mean(), scores.std()))"
   ]
  },
  {
   "cell_type": "code",
   "execution_count": null,
   "metadata": {},
   "outputs": [],
   "source": [
    "# Usamos decision tree, el modelo con mejor puntuación \n",
    "decision_tree_clf.fit(x, y)\n",
    "\n",
    "# Predicción de probabilidades en el dataset de explotación\n",
    "x_explotacion = datos_explotacion.drop(['Customer ID', 'Churn Status'], axis=1)\n",
    "probabilidades_fuga = decision_tree_clf.predict_proba(x_explotacion)[:, 1]\n",
    "\n",
    "# Seleccionar los 100 clientes con mayor probabilidad de fuga\n",
    "ids_clientes = datos_explotacion['Customer ID']\n",
    "indices_top_100 = np.argsort(probabilidades_fuga)[-100:]\n",
    "top_100_clientes = ids_clientes.iloc[indices_top_100]\n",
    "\n",
    "# Generar archivo CSV\n",
    "top_100_clientes.to_csv(\"top_100_clientes_fuga.csv\", index=False)"
   ]
  }
 ],
 "metadata": {
  "kernelspec": {
   "display_name": "Python 3",
   "language": "python",
   "name": "python3"
  },
  "language_info": {
   "codemirror_mode": {
    "name": "ipython",
    "version": 3
   },
   "file_extension": ".py",
   "mimetype": "text/x-python",
   "name": "python",
   "nbconvert_exporter": "python",
   "pygments_lexer": "ipython3",
   "version": "3.8.10"
  }
 },
 "nbformat": 4,
 "nbformat_minor": 2
}
